{
  "nbformat": 4,
  "nbformat_minor": 0,
  "metadata": {
    "colab": {
      "name": "Untitled7.ipynb",
      "provenance": [],
      "collapsed_sections": []
    },
    "kernelspec": {
      "name": "python3",
      "display_name": "Python 3"
    },
    "language_info": {
      "name": "python"
    }
  },
  "cells": [
    {
      "cell_type": "code",
      "execution_count": 1,
      "metadata": {
        "colab": {
          "base_uri": "https://localhost:8080/"
        },
        "id": "OQ0CLtd0aVGZ",
        "outputId": "ef9eed82-35b3-4a2f-a1f1-00187ddf5544"
      },
      "outputs": [
        {
          "output_type": "stream",
          "name": "stdout",
          "text": [
            "Twinkle, tiwinkle, little star,\n",
            "         How I wonder what you are!\n",
            "                Up above the world so high,\n",
            "                Like a diamond in the sky.\n",
            "Twinkle, tiwinkle, little star,\n",
            "         How I wonder what you are!\n"
          ]
        }
      ],
      "source": [
        "print(\"Twinkle, tiwinkle, little star,\")\n",
        "print(\"         How I wonder what you are!\")\n",
        "print(\"                Up above the world so high,\")\n",
        "print(\"                Like a diamond in the sky.\")\n",
        "print(\"Twinkle, tiwinkle, little star,\")\n",
        "print(\"         How I wonder what you are!\")"
      ]
    },
    {
      "cell_type": "code",
      "source": [
        "import sys\n",
        "print(sys.version)"
      ],
      "metadata": {
        "colab": {
          "base_uri": "https://localhost:8080/"
        },
        "id": "Q_5WYBqUc_nz",
        "outputId": "a49d3700-b8b7-4c39-a221-43c1a7294093"
      },
      "execution_count": 2,
      "outputs": [
        {
          "output_type": "stream",
          "name": "stdout",
          "text": [
            "3.7.12 (default, Sep 10 2021, 00:21:48) \n",
            "[GCC 7.5.0]\n"
          ]
        }
      ]
    },
    {
      "cell_type": "code",
      "source": [
        "from datetime import datetime \n",
        "\n",
        "t = datetime.now()\n",
        "\n",
        "time = t.strftime(\"%H:%M:%S\")\n",
        "print(\"Time:\", time)\n",
        "\n",
        "date = t.strftime(\"%d/%m/%Y\")\n",
        "print(\"Date:\", date)\n"
      ],
      "metadata": {
        "colab": {
          "base_uri": "https://localhost:8080/"
        },
        "id": "mNdxdlZEjchs",
        "outputId": "c869c06d-0090-494b-afb8-b8e1e5bb98f1"
      },
      "execution_count": 9,
      "outputs": [
        {
          "output_type": "stream",
          "name": "stdout",
          "text": [
            "time: 19:45:24\n",
            "date: 28/12/2021\n"
          ]
        }
      ]
    },
    {
      "cell_type": "code",
      "source": [
        "\n",
        "import math as m\n",
        "rad = input(\"Enter radius of Circle = \")\n",
        "pival = m.pi\n",
        "area = pival*pow(int(rad),2)\n",
        "\n",
        "print(\"Area of circle :\", area)\n"
      ],
      "metadata": {
        "colab": {
          "base_uri": "https://localhost:8080/"
        },
        "id": "DgxccTV8l7m0",
        "outputId": "aa40068c-cdc2-4c54-9065-d2d61d21184f"
      },
      "execution_count": 15,
      "outputs": [
        {
          "output_type": "stream",
          "name": "stdout",
          "text": [
            "Enter radius of Circle = 7\n",
            "Area of circle : 153.93804002589985\n"
          ]
        }
      ]
    },
    {
      "cell_type": "code",
      "source": [
        "name = input(\"Enter your Name \")\n",
        "name=name[::-1]\n",
        "print(name)\n"
      ],
      "metadata": {
        "colab": {
          "base_uri": "https://localhost:8080/"
        },
        "id": "FsT-qAruomFL",
        "outputId": "61adf0eb-49e5-4fc4-ea6f-fba7565ef5cf"
      },
      "execution_count": 1,
      "outputs": [
        {
          "output_type": "stream",
          "name": "stdout",
          "text": [
            "Enter your Name Muhammad Montaha\n",
            "ahatnoM dammahuM\n"
          ]
        }
      ]
    },
    {
      "cell_type": "code",
      "source": [
        "num1 = input(\"Enter first Number \")\n",
        "num2 = input(\"Enter second Number \")\n",
        "\n",
        "result = int(num1)+int(num2)\n",
        "\n",
        "\n",
        "print(result)"
      ],
      "metadata": {
        "colab": {
          "base_uri": "https://localhost:8080/"
        },
        "id": "xAFZKSGiwtK4",
        "outputId": "18ecacc9-2d1e-4fc6-b0ee-d4fdbff85aeb"
      },
      "execution_count": 4,
      "outputs": [
        {
          "output_type": "stream",
          "name": "stdout",
          "text": [
            "Enter first Number 1\n",
            "Enter second Number 2\n",
            "3\n"
          ]
        }
      ]
    }
  ]
}